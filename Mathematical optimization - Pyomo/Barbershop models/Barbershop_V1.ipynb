{
 "cells": [
  {
   "cell_type": "markdown",
   "metadata": {},
   "source": [
    "# Barbershop Model - Binary programming\n",
    "\n",
    "Joaquín Rodríguez Villegas\n",
    "\n",
    "## Sets \n",
    "\n",
    "* $I$: Set of Barbershops, i $\\in$ {1,2,…,I} \n",
    "\n",
    "## Parameters\n",
    "\n",
    "* $d_{i}$: Is the distance between home and the barbershop ${i}$, $\\forall i \\in I$\n",
    "* $c_{i}$: Is the general service haircut cost (price) at the barbershop ${i}$, $\\forall i \\in I$\n",
    "* $TE_{i}$: Is the average waiting time at the barbershop ${i}$, $\\forall i \\in I$\n",
    "* $TS_{i}$: Is the average service time at the barbershop ${i}$, $\\forall i \\in I$\n",
    "* $Budget$: Is the available budget\n",
    "\n",
    "## Decision variables\n",
    "\n",
    "$$ x_{i}: \n",
    "    \\begin{cases}\n",
    "      1 \\space\\text{if the barbershop ${i}$ is chosen,} \\space \\forall i \\in I \\\\\n",
    "      0 \\space\\text{if the barbershop ${i}$ is not chosen} \\space \\forall i \\in I\n",
    "    \\end{cases} $$\n",
    "\n",
    "## Objective functions\n",
    "\n",
    "Cost objective:\n",
    "$$ \\ Min\\space \\ Z = \\sum_{i \\in I} c_{i}*x_{i} $$\n",
    "\n",
    "Distance objective:\n",
    "$$ \\ Min\\space \\ Z = \\sum_{i \\in I} d_{i}*x_{i} $$\n",
    "\n",
    "Time objective:\n",
    "$$ \\ Min\\space \\ Z = \\sum_{i \\in I} \\frac{1}{2}(TE_{i} +TS_{i})*x_{i} $$\n",
    "\n",
    "## Constraints\n",
    "\n",
    "#### Only one barbershop constraint:\n",
    "$$ \\sum_{i \\in I} x_{i} = 1$$\n",
    "\n",
    "#### Budget constraint:\n",
    "$$ \\sum_{i \\in I} c_{i}*x_{i} \\leq Budget$$\n",
    "\n",
    "#### Nonnegative constraints\n",
    "$$ x_{i} \\in \\{0,1\\},\\forall i \\in I $$\n",
    "\n"
   ]
  },
  {
   "cell_type": "code",
   "execution_count": 1,
   "metadata": {},
   "outputs": [],
   "source": [
    "#Import libraries\n",
    "import pyomo.environ as pe\n",
    "import pyomo.opt as po"
   ]
  },
  {
   "cell_type": "code",
   "execution_count": 2,
   "metadata": {},
   "outputs": [],
   "source": [
    "#Build data\n",
    "barbershops = {'Norberto','Blanquita','Vidal','Beerberia'}\n",
    "distance = {'Norberto':0.6125,'Blanquita':6.12,'Vidal':0.42709,'Beerberia': 0.54045}\n",
    "cost = {'Norberto':36000,'Blanquita':15000,'Vidal':30000,'Beerberia':38000}\n",
    "Budget = 40000"
   ]
  },
  {
   "cell_type": "code",
   "execution_count": 3,
   "metadata": {},
   "outputs": [
    {
     "name": "stdout",
     "output_type": "stream",
     "text": [
      "WARNING: Initializing ordered Set barbershop with a fundamentally unordered\n",
      "    data source (type: set).  This WILL potentially lead to nondeterministic\n",
      "    behavior in Pyomo\n"
     ]
    }
   ],
   "source": [
    "#Optimization Model\n",
    "#Sets\n",
    "model = pe.ConcreteModel()\n",
    "model.barbershop = pe.Set(initialize = barbershops)\n",
    "\n",
    "#Parameters\n",
    "model.distance = pe.Param(model.barbershop, initialize = distance)\n",
    "model.cost = pe.Param(model.barbershop, initialize = cost)\n",
    "model.Budget = pe.Param(initialize = Budget)\n",
    "\n",
    "#Decision variables\n",
    "model.x = pe.Var(model.barbershop, domain = pe.Binary)\n",
    "\n",
    "#Objective functions\n",
    "def calculate_cost(model):\n",
    "    '''\n",
    "    This function calculates the total cost at the barbershop.\n",
    "\n",
    "    Parameters\n",
    "    ----------\n",
    "    model : Pyomo ConcreteModel\n",
    "        The optimization model.\n",
    "\n",
    "    Return\n",
    "    ------------\n",
    "    double\n",
    "        Barbershop costs\n",
    "    '''\n",
    "    cost = sum(model.cost[i]* model.x[i] for i in model.barbershop)\n",
    "    return cost\n",
    "\n",
    "def calculate_distance(model):\n",
    "    '''\n",
    "    This function calculates the total distance to the barbershop.\n",
    "\n",
    "    Parameters\n",
    "    ----------\n",
    "    model : Pyomo ConcreteModel\n",
    "        The optimization model.\n",
    "\n",
    "    Return\n",
    "    ------------\n",
    "    double\n",
    "        Barbershop distance\n",
    "    '''\n",
    "    distance = sum(model.distance[i]* model.x[i] for i in model.barbershop)\n",
    "    return distance\n",
    "\n",
    "#Constraints\n",
    "def one_barbershop_constraint(model):\n",
    "    '''\n",
    "    Constraint that defines if a given barbershop is chosen or not, there can only be one\n",
    "    barbershop to be chosen from.\n",
    "\n",
    "    Parameters\n",
    "    ----------\n",
    "    model : Pyomo ConcreteModel\n",
    "        The optimization model.\n",
    "\n",
    "    Returns\n",
    "    -------\n",
    "    Pyomo ConcreteModel\n",
    "        The optimization model.\n",
    "    '''\n",
    "    left_hand_side  = sum([model.x[i] for i in model.barbershop]) \n",
    "    right_hand_side = 1\n",
    "\n",
    "    return left_hand_side == right_hand_side\n",
    "\n",
    "\n",
    "def budget_constraint(model):\n",
    "    '''\n",
    "    Constraint that defines if a given barbershop is chosen or not, there can only be one\n",
    "    barbershop to be chosen from.\n",
    "\n",
    "    Parameters\n",
    "    ----------\n",
    "    model : Pyomo ConcreteModel\n",
    "        The optimization model.\n",
    "\n",
    "    Returns\n",
    "    -------\n",
    "    Pyomo ConcreteModel\n",
    "        The optimization model.\n",
    "    '''\n",
    "    left_hand_side  = sum(model.cost[i]* model.x[i] for i in model.barbershop)\n",
    "    right_hand_side = model.Budget\n",
    "\n",
    "    return left_hand_side <= right_hand_side"
   ]
  },
  {
   "cell_type": "code",
   "execution_count": 4,
   "metadata": {},
   "outputs": [
    {
     "name": "stdout",
     "output_type": "stream",
     "text": [
      "GLPSOL--GLPK LP/MIP Solver 5.0\n",
      "Parameter(s) specified in the command line:\n",
      " --write C:\\Users\\JRODRI~1.VIL\\AppData\\Local\\Temp\\tmpipeu69bp.glpk.raw --wglp\n",
      " C:\\Users\\JRODRI~1.VIL\\AppData\\Local\\Temp\\tmp22no19fi.glpk.glp --cpxlp C:\\Users\\JRODRI~1.VIL\\AppData\\Local\\Temp\\tmpz6rkcut2.pyomo.lp\n",
      "Reading problem data from 'C:\\Users\\JRODRI~1.VIL\\AppData\\Local\\Temp\\tmpz6rkcut2.pyomo.lp'...\n",
      "C:\\Users\\JRODRI~1.VIL\\AppData\\Local\\Temp\\tmpz6rkcut2.pyomo.lp:35: warning: lower bound of variable 'x1' redefined\n",
      "C:\\Users\\JRODRI~1.VIL\\AppData\\Local\\Temp\\tmpz6rkcut2.pyomo.lp:35: warning: upper bound of variable 'x1' redefined\n",
      "3 rows, 5 columns, 9 non-zeros\n",
      "4 integer variables, all of which are binary\n",
      "39 lines were read\n",
      "Writing problem data to 'C:\\Users\\JRODRI~1.VIL\\AppData\\Local\\Temp\\tmp22no19fi.glpk.glp'...\n",
      "28 lines were written\n",
      "GLPK Integer Optimizer 5.0\n",
      "3 rows, 5 columns, 9 non-zeros\n",
      "4 integer variables, all of which are binary\n",
      "Preprocessing...\n",
      "1 hidden packing inequaliti(es) were detected\n",
      "2 rows, 4 columns, 8 non-zeros\n",
      "4 integer variables, all of which are binary\n",
      "Scaling...\n",
      " A: min|aij| =  1.000e+00  max|aij| =  1.000e+00  ratio =  1.000e+00\n",
      "Problem data seem to be well scaled\n",
      "Constructing initial basis...\n",
      "Size of triangular part is 2\n",
      "Solving LP relaxation...\n",
      "GLPK Simplex Optimizer 5.0\n",
      "2 rows, 4 columns, 8 non-zeros\n",
      "*     0: obj =   4.270900000e-01 inf =   0.000e+00 (0)\n",
      "OPTIMAL LP SOLUTION FOUND\n",
      "Integer optimization begins...\n",
      "Long-step dual simplex will be used\n",
      "+     0: mip =     not found yet >=              -inf        (1; 0)\n",
      "+     0: >>>>>   4.270900000e-01 >=   4.270900000e-01   0.0% (1; 0)\n",
      "+     0: mip =   4.270900000e-01 >=     tree is empty   0.0% (0; 1)\n",
      "INTEGER OPTIMAL SOLUTION FOUND\n",
      "Time used:   0.0 secs\n",
      "Memory used: 0.1 Mb (60368 bytes)\n",
      "Writing MIP solution to 'C:\\Users\\JRODRI~1.VIL\\AppData\\Local\\Temp\\tmpipeu69bp.glpk.raw'...\n",
      "17 lines were written\n"
     ]
    },
    {
     "data": {
      "text/plain": [
       "0.42709"
      ]
     },
     "execution_count": 4,
     "metadata": {},
     "output_type": "execute_result"
    }
   ],
   "source": [
    "#model.obj_function_cost = pe.Objective(sense = pe.minimize, rule = calculate_cost)\n",
    "model.obj_function_distance = pe.Objective(sense = pe.minimize, rule = calculate_distance)\n",
    "model.add_one_barbershop_constraint = pe.Constraint(rule=one_barbershop_constraint)\n",
    "model.add_budget_constraint = pe.Constraint(rule=budget_constraint)\n",
    "\n",
    "solver = pe.SolverFactory('glpk')\n",
    "result = solver.solve(model, tee=True) \n",
    "#pe.value(model.obj_function_cost)\n",
    "pe.value(model.obj_function_distance)"
   ]
  },
  {
   "cell_type": "code",
   "execution_count": 5,
   "metadata": {},
   "outputs": [
    {
     "name": "stdout",
     "output_type": "stream",
     "text": [
      "x : Size=4, Index=barbershop\n",
      "    Key       : Lower : Value : Upper : Fixed : Stale : Domain\n",
      "    Beerberia :     0 :   0.0 :     1 : False : False : Binary\n",
      "    Blanquita :     0 :   0.0 :     1 : False : False : Binary\n",
      "     Norberto :     0 :   0.0 :     1 : False : False : Binary\n",
      "        Vidal :     0 :   1.0 :     1 : False : False : Binary\n"
     ]
    }
   ],
   "source": [
    "model.x.pprint()"
   ]
  }
 ],
 "metadata": {
  "kernelspec": {
   "display_name": "Python 3.9.12 ('base')",
   "language": "python",
   "name": "python3"
  },
  "language_info": {
   "codemirror_mode": {
    "name": "ipython",
    "version": 3
   },
   "file_extension": ".py",
   "mimetype": "text/x-python",
   "name": "python",
   "nbconvert_exporter": "python",
   "pygments_lexer": "ipython3",
   "version": "3.9.12 (main, Apr  4 2022, 05:22:27) [MSC v.1916 64 bit (AMD64)]"
  },
  "orig_nbformat": 4,
  "vscode": {
   "interpreter": {
    "hash": "7433f52e6e7905b65c58d6b21451a0b3ff03627162b0d1d18b32706d2a7727cb"
   }
  }
 },
 "nbformat": 4,
 "nbformat_minor": 2
}
